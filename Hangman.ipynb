{
 "cells": [
  {
   "cell_type": "markdown",
   "id": "ba7cebdc-bc8b-4860-a183-43c7b39b42f3",
   "metadata": {},
   "source": [
    "Load in the Data"
   ]
  },
  {
   "cell_type": "code",
   "execution_count": 1,
   "id": "a5bdfa08-d2e4-4132-a22e-624f19cb0596",
   "metadata": {},
   "outputs": [],
   "source": [
    "import numpy\n",
    "import sklearn.neighbors\n",
    "from sklearn.model_selection import train_test_split\n",
    "from sklearn.neighbors import KNeighborsClassifier\n",
    "from sklearn.model_selection import cross_val_score\n",
    "\n",
    "C = numpy.loadtxt('Changed20k.txt')\n",
    "D = numpy.loadtxt('Changed20kMoreEmpties.txt')\n",
    "numpy.random.shuffle(C)\n",
    "numpy.random.shuffle(D)\n",
    "X1 = C[:,:26]\n",
    "y1 = C[:,26:]\n",
    "X2 = D[:,:26]\n",
    "y2 = D[:,26:]"
   ]
  },
  {
   "cell_type": "code",
   "execution_count": 2,
   "id": "adeec31a-aee5-4bc9-9d6d-b9811be074a5",
   "metadata": {},
   "outputs": [
    {
     "data": {
      "text/plain": [
       "(17913, 26)"
      ]
     },
     "execution_count": 2,
     "metadata": {},
     "output_type": "execute_result"
    }
   ],
   "source": [
    "X1.shape"
   ]
  },
  {
   "cell_type": "markdown",
   "id": "76f759c8-75e2-4283-9026-69aa45556138",
   "metadata": {},
   "source": [
    "Train Model1 (with slightly changed data)"
   ]
  },
  {
   "cell_type": "code",
   "execution_count": 62,
   "id": "66047136-09bf-4287-942f-c766f112889a",
   "metadata": {},
   "outputs": [],
   "source": [
    "model1 = sklearn.neighbors.KNeighborsRegressor(n_neighbors= 100)\n",
    "\n",
    "X1_train, X1_test, y1_train, y1_test = train_test_split(X1, y1, test_size = 0.2, random_state = 42)\n",
    "model1.fit(X1_train, y1_train)\n",
    "y1_pred = model1.predict(X1_test)\n",
    "\n",
    "#Tests\n",
    "accuracy = 0\n",
    "accuracy2 = 0\n",
    "for i in range(y1_pred.shape[0]):\n",
    "    max_indices = numpy.argpartition(y1_pred[i], -4)[-4:]\n",
    "    sorted = max_indices[numpy.argsort(-y1_pred[i][max_indices])]\n",
    "    for j in range(len(sorted)):\n",
    "        if y1_test[i][sorted[j]] == 1:\n",
    "            accuracy = accuracy + 1\n",
    "    if y1_test[i][sorted[0]] == 1:\n",
    "        accuracy2 = accuracy2 + 1"
   ]
  },
  {
   "cell_type": "code",
   "execution_count": 63,
   "id": "739bebd3-b5de-44e1-9395-b305cd31ff27",
   "metadata": {},
   "outputs": [
    {
     "name": "stdout",
     "output_type": "stream",
     "text": [
      "0.3400781468043539\n"
     ]
    }
   ],
   "source": [
    "print(accuracy/(y1_pred.shape[0] * 4))\n",
    "# How many of the top 4 guesses are actually in the word?"
   ]
  },
  {
   "cell_type": "code",
   "execution_count": 32,
   "id": "181fa4d5-26e1-4028-a42b-569537f59b51",
   "metadata": {},
   "outputs": [
    {
     "name": "stdout",
     "output_type": "stream",
     "text": [
      "0.4122243929667876\n"
     ]
    }
   ],
   "source": [
    "print(accuracy2/y1_pred.shape[0])\n",
    "# Is the top guess accurate?"
   ]
  },
  {
   "cell_type": "code",
   "execution_count": 35,
   "id": "bec454ba-a9f4-483e-b8c3-3a0ce3a308b1",
   "metadata": {},
   "outputs": [],
   "source": [
    "accuracy3 = 0\n",
    "for i in range(y1_pred.shape[0]):\n",
    "    max_indices = numpy.argpartition(y1_pred[i], -6)[-6:]\n",
    "    sorted = max_indices[numpy.argsort(-y1_pred[i][max_indices])]\n",
    "    for j in range(6):\n",
    "        if y1_test[i][sorted[j]] == 1:\n",
    "            accuracy3 = accuracy3 + 1\n",
    "            break"
   ]
  },
  {
   "cell_type": "code",
   "execution_count": 36,
   "id": "54cea571-01e0-4508-a832-64524cf3112e",
   "metadata": {},
   "outputs": [
    {
     "name": "stdout",
     "output_type": "stream",
     "text": [
      "0.8945018141222439\n"
     ]
    }
   ],
   "source": [
    "print(accuracy3/y1_pred.shape[0])"
   ]
  },
  {
   "cell_type": "markdown",
   "id": "339444c4-f57a-4f51-8876-6a1bb1469039",
   "metadata": {},
   "source": [
    "## Train Model2 (More Blanks)"
   ]
  },
  {
   "cell_type": "code",
   "execution_count": 47,
   "id": "dfa623ea-2cd4-4bf1-b16d-455971a8cff9",
   "metadata": {},
   "outputs": [],
   "source": [
    "model2 = sklearn.neighbors.KNeighborsRegressor(n_neighbors= 100)\n",
    "\n",
    "X2_train, X2_test, y2_train, y2_test = train_test_split(X2, y2, test_size = 0.2, random_state = 42)\n",
    "model2.fit(X2_train, y2_train)\n",
    "y2_pred = model2.predict(X2_test)"
   ]
  },
  {
   "cell_type": "code",
   "execution_count": 54,
   "id": "d9a0c2c7-beae-4855-86c3-5b29718fda50",
   "metadata": {},
   "outputs": [],
   "source": [
    "#tests\n",
    "accuracy = 0\n",
    "accuracy2 = 0\n",
    "for i in range(y2_pred.shape[0]):\n",
    "    max_indices = numpy.argpartition(y2_pred[i], -4)[-4:]\n",
    "    sorted = max_indices[numpy.argsort(-y2_pred[i][max_indices])]\n",
    "    for j in range(len(sorted)):\n",
    "        if y2_test[i][sorted[j]] == 1:\n",
    "            accuracy = accuracy + 1\n",
    "    if y2_test[i][sorted[0]] == 1:\n",
    "        accuracy2 = accuracy2 + 1"
   ]
  },
  {
   "cell_type": "code",
   "execution_count": 57,
   "id": "19dcfacb-30ba-4406-b4e2-86250a2c9ee6",
   "metadata": {},
   "outputs": [
    {
     "name": "stdout",
     "output_type": "stream",
     "text": [
      "0.19725090706112197\n"
     ]
    }
   ],
   "source": [
    "print(accuracy/(y2_pred.shape[0] * 4))\n",
    "# How many of the top 4 guesses are actually in the word?"
   ]
  },
  {
   "cell_type": "code",
   "execution_count": 56,
   "id": "d40c1588-1606-44b4-bf3b-d75bdb8ae23e",
   "metadata": {},
   "outputs": [
    {
     "name": "stdout",
     "output_type": "stream",
     "text": [
      "0.2771420597264862\n"
     ]
    }
   ],
   "source": [
    "print(accuracy2/y2_pred.shape[0])\n",
    "# Is the top guess accurate?"
   ]
  },
  {
   "cell_type": "code",
   "execution_count": 23,
   "id": "6fd2345d-381c-4f0f-af19-8cdf98951fc3",
   "metadata": {},
   "outputs": [],
   "source": [
    "for i in range(y2_pred.shape[0]):\n",
    "    max_indices = numpy.argpartition(y2_pred[i], -6)[-6:]\n",
    "    for j in range(6):\n",
    "        y2_pred[i][max_indices[j]] = 1"
   ]
  },
  {
   "cell_type": "code",
   "execution_count": 24,
   "id": "93fa5d52-c335-4640-9788-ed385641e0ee",
   "metadata": {},
   "outputs": [
    {
     "data": {
      "text/plain": [
       "0.6756907619313425"
      ]
     },
     "execution_count": 24,
     "metadata": {},
     "output_type": "execute_result"
    }
   ],
   "source": [
    "accuracy3 = 0\n",
    "for i in range(y2_pred.shape[0]):\n",
    "    max_indices = numpy.argpartition(y2_pred[i], -6)[-6:]\n",
    "    sorted = max_indices[numpy.argsort(-y2_pred[i][max_indices])]\n",
    "    for j in range(6):\n",
    "        if y2_test[i][sorted[j]] == 1:\n",
    "            accuracy3 = accuracy3 + 1\n",
    "            break\n",
    "accuracy3/y2_pred.shape[0]"
   ]
  },
  {
   "cell_type": "markdown",
   "id": "2a65085a-b2e1-421b-af8f-67681a06523d",
   "metadata": {},
   "source": [
    "## Model1 on Model2 Data"
   ]
  },
  {
   "cell_type": "code",
   "execution_count": 26,
   "id": "d5ceea5a-08b5-4407-b04a-890e56b69a4b",
   "metadata": {},
   "outputs": [],
   "source": [
    "y3_pred = model1.predict(X2_test)\n"
   ]
  },
  {
   "cell_type": "code",
   "execution_count": 60,
   "id": "b656a21b-8e60-4422-a024-a4fd6a58661e",
   "metadata": {},
   "outputs": [
    {
     "name": "stdout",
     "output_type": "stream",
     "text": [
      "0.19725090706112197\n",
      "0.28858498464973487\n"
     ]
    }
   ],
   "source": [
    "accuracy = 0\n",
    "accuracy2 = 0\n",
    "for i in range(y3_pred.shape[0]):\n",
    "    max_indices = numpy.argpartition(y2_pred[i], -4)[-4:]\n",
    "    sorted = max_indices[numpy.argsort(-y3_pred[i][max_indices])]\n",
    "    for j in range(len(sorted)):\n",
    "        if y2_test[i][sorted[j]] == 1:\n",
    "            accuracy = accuracy + 1\n",
    "    if y2_test[i][sorted[0]] == 1:\n",
    "        accuracy2 = accuracy2 + 1\n",
    "\n",
    "print(accuracy/(y3_pred.shape[0] * 4))\n",
    "# How many of the top 6 guesses are actually in the word?\n",
    "print(accuracy2/y3_pred.shape[0])\n",
    "# Is the top guess accurate?"
   ]
  },
  {
   "cell_type": "markdown",
   "id": "0feb13e7-1d2d-4608-a6d9-f1bd7f30db47",
   "metadata": {},
   "source": [
    "## Model 2 on model 1 Data"
   ]
  },
  {
   "cell_type": "code",
   "execution_count": 61,
   "id": "0ab7fc08-9ad6-4934-8386-414c977c2c6f",
   "metadata": {},
   "outputs": [
    {
     "name": "stdout",
     "output_type": "stream",
     "text": [
      "0.3409852079263187\n",
      "0.42645827518838963\n"
     ]
    }
   ],
   "source": [
    "y4_pred = model2.predict(X1_test)\n",
    "\n",
    "accuracy = 0\n",
    "accuracy2 = 0\n",
    "for i in range(y4_pred.shape[0]):\n",
    "    max_indices = numpy.argpartition(y4_pred[i], -4)[-4:]\n",
    "    sorted = max_indices[numpy.argsort(-y4_pred[i][max_indices])]\n",
    "    for j in range(len(sorted)):\n",
    "        if y1_test[i][sorted[j]] == 1:\n",
    "            accuracy = accuracy + 1\n",
    "    if y1_test[i][sorted[0]] == 1:\n",
    "        accuracy2 = accuracy2 + 1\n",
    "\n",
    "print(accuracy/(y4_pred.shape[0] * 4))\n",
    "# How many of the top 6 guesses are actually in the word?\n",
    "print(accuracy2/y4_pred.shape[0])\n",
    "# Is the top guess accurate?"
   ]
  },
  {
   "cell_type": "markdown",
   "id": "402dd053-4da9-46b2-897d-78e364ec17e0",
   "metadata": {},
   "source": [
    "MLP REGRESSOR"
   ]
  },
  {
   "cell_type": "code",
   "execution_count": 227,
   "id": "45a31882-0600-4a9c-8701-8ff9ae2a8d0a",
   "metadata": {},
   "outputs": [
    {
     "name": "stdout",
     "output_type": "stream",
     "text": [
      "0.30514466461996465\n",
      "0.45241417806307566\n"
     ]
    }
   ],
   "source": [
    "from sklearn.neural_network import MLPRegressor\n",
    "regr = MLPRegressor(hidden_layer_sizes=(300), solver = \"adam\", batch_size = 200, random_state=1, max_iter=300).fit(X1_train, y1_train)\n",
    "y5_pred = regr.predict(X1_test)\n",
    "\n",
    "#Tests\n",
    "accuracy = 0\n",
    "accuracy2 = 1\n",
    "for i in range(y5_pred.shape[0]):\n",
    "    max_indices = numpy.argpartition(y5_pred[i], -6)[-6:]\n",
    "    sorted = max_indices[numpy.argsort(-y5_pred[i][max_indices])]\n",
    "    for j in range(len(sorted)):\n",
    "        if y1_test[i][sorted[j]] == 1:\n",
    "            accuracy = accuracy + 1\n",
    "    if y1_test[i][sorted[0]] == 1:\n",
    "        accuracy2 = accuracy2 + 1\n",
    "\n",
    "print(accuracy/(y5_pred.shape[0] * 6))\n",
    "print(accuracy2/y3_pred.shape[0])"
   ]
  },
  {
   "cell_type": "markdown",
   "id": "8476fb4f-d6a6-4f18-83ed-96148f2d7ec8",
   "metadata": {},
   "source": [
    "## Let's Make the Game!"
   ]
  },
  {
   "cell_type": "code",
   "execution_count": 65,
   "id": "891c492e-723d-4c18-b22d-5432888e876c",
   "metadata": {},
   "outputs": [
    {
     "name": "stdout",
     "output_type": "stream",
     "text": [
      "Let's play hangman! I'm no world-renowned expert, but I think I do pretty decent!\n",
      "I do like to guess though, so if you can come up with the word, that would be great.\n",
      "I promise I won't cheat!\n",
      "\n"
     ]
    },
    {
     "name": "stdin",
     "output_type": "stream",
     "text": [
      " loser\n"
     ]
    },
    {
     "name": "stdout",
     "output_type": "stream",
     "text": [
      "\n",
      "Bougie word!\n",
      "I think.\n",
      "I don't actually know the word, hence the game.\n",
      "So yeah...\n",
      "\n",
      "Anyways! This is the board.\n",
      "  \n",
      "_ _ _ _ _ \n",
      "\n",
      "And this is the sight of the (potentially) gruesome scene.\n",
      "\n",
      " _____\n",
      "|     |\n",
      "      |\n",
      "      |\n",
      "      |\n",
      "    __|__\n",
      "\n",
      "So let's play!\n",
      "\n",
      "\n",
      "\n",
      "  _____\n",
      " |     |\n",
      "       |\n",
      "       |\n",
      "       |\n",
      "     __|__\n",
      "\n",
      "\n",
      "Word so far!\n",
      "\n",
      "          \n",
      "_ _ _ _ _ \n",
      "e\n",
      "That's what I guessed.\n",
      "And I got it right!\n",
      "\n",
      "Where does it go? (e.g. give me the number spot)\n"
     ]
    },
    {
     "name": "stdin",
     "output_type": "stream",
     "text": [
      " 4\n"
     ]
    },
    {
     "name": "stdout",
     "output_type": "stream",
     "text": [
      "\n",
      "\n",
      "\n",
      "  _____\n",
      " |     |\n",
      "       |\n",
      "       |\n",
      "       |\n",
      "     __|__\n",
      "\n",
      "\n",
      "Word so far!\n",
      "\n",
      "      e   \n",
      "_ _ _ _ _ \n",
      "a\n",
      "That's what I guessed.\n",
      "n\n",
      "That's what I guessed.\n",
      "s\n",
      "That's what I guessed.\n",
      "And I got it right!\n",
      "\n",
      "Where does it go? (e.g. give me the number spot)\n"
     ]
    },
    {
     "name": "stdin",
     "output_type": "stream",
     "text": [
      " 3\n"
     ]
    },
    {
     "name": "stdout",
     "output_type": "stream",
     "text": [
      "\n",
      "\n",
      "\n",
      "  _____\n",
      " |     |\n",
      " O     |\n",
      " |     |\n",
      "       |\n",
      "     __|__\n",
      "\n",
      "\n",
      "Word so far!\n",
      "\n",
      "    s e   \n",
      "_ _ _ _ _ \n",
      "o\n",
      "That's what I guessed.\n",
      "And I got it right!\n",
      "\n",
      "Where does it go? (e.g. give me the number spot)\n"
     ]
    },
    {
     "name": "stdin",
     "output_type": "stream",
     "text": [
      " 2\n"
     ]
    },
    {
     "name": "stdout",
     "output_type": "stream",
     "text": [
      "\n",
      "\n",
      "\n",
      "  _____\n",
      " |     |\n",
      " O     |\n",
      " |     |\n",
      "       |\n",
      "     __|__\n",
      "\n",
      "\n",
      "Word so far!\n",
      "\n",
      "  o s e   \n",
      "_ _ _ _ _ \n",
      "r\n",
      "That's what I guessed.\n",
      "And I got it right!\n",
      "\n",
      "Where does it go? (e.g. give me the number spot)\n"
     ]
    },
    {
     "name": "stdin",
     "output_type": "stream",
     "text": [
      " 5\n"
     ]
    },
    {
     "name": "stdout",
     "output_type": "stream",
     "text": [
      "\n",
      "\n",
      "\n",
      "  _____\n",
      " |     |\n",
      " O     |\n",
      " |     |\n",
      "       |\n",
      "     __|__\n",
      "\n",
      "\n",
      "Word so far!\n",
      "\n",
      "  o s e r \n",
      "_ _ _ _ _ \n",
      "l\n",
      "That's what I guessed.\n",
      "And I got it right!\n",
      "\n",
      "Where does it go? (e.g. give me the number spot)\n"
     ]
    },
    {
     "name": "stdin",
     "output_type": "stream",
     "text": [
      " 1\n"
     ]
    },
    {
     "name": "stdout",
     "output_type": "stream",
     "text": [
      "\n",
      "\n",
      "\n",
      "I won! Yay!\n",
      "\n",
      "Do you wanna play again?\n",
      "1. Yes!\n",
      "2. No.\n"
     ]
    },
    {
     "name": "stdin",
     "output_type": "stream",
     "text": [
      " 2\n"
     ]
    },
    {
     "name": "stdout",
     "output_type": "stream",
     "text": [
      "\n",
      "Okay! Bye!\n"
     ]
    }
   ],
   "source": [
    " finalDone = 0\n",
    "\n",
    "while finalDone != 2:\n",
    "    print(\"Let's play hangman! I'm no world-renowned expert, but I think I do pretty decent!\")\n",
    "    print(\"I do like to guess though, so if you can come up with the word, that would be great.\")\n",
    "    print(\"I promise I won't cheat!\")\n",
    "    print(\"\")\n",
    "    val = input(\"\")\n",
    "    \n",
    "    \n",
    "    wordArray = numpy.zeros(26, dtype=int)\n",
    "    gameArray = numpy.zeros(26, dtype=int)\n",
    "    number_to_letter = {}\n",
    "\n",
    "    # Populate the dictionary\n",
    "    for i in range(26):\n",
    "        number_to_letter[i] = chr(ord('a') + i)\n",
    "    \n",
    "    \n",
    "    for i in range(len(val)):\n",
    "        if val[i] == \"a\":\n",
    "            wordArray[0] = 1\n",
    "        elif val[i] == \"b\":\n",
    "            wordArray[1] = 1\n",
    "        elif val[i] == \"c\":\n",
    "            wordArray[2] = 1\n",
    "        elif val[i] == \"d\":\n",
    "            wordArray[3] = 1\n",
    "        elif val[i] == \"e\":\n",
    "            wordArray[4] = 1\n",
    "        elif val[i] == \"f\":\n",
    "            wordArray[5] = 1\n",
    "        elif val[i] == \"g\":\n",
    "            wordArray[6] = 1\n",
    "        elif val[i] == \"h\":\n",
    "            wordArray[7] = 1\n",
    "        elif val[i] == \"i\":\n",
    "            wordArray[8] = 1\n",
    "        elif val[i] == \"j\":\n",
    "            wordArray[9] = 1\n",
    "        elif val[i] == \"k\":\n",
    "            wordArray[10] = 1\n",
    "        elif val[i] == \"l\":\n",
    "            wordArray[11] = 1\n",
    "        elif val[i] == \"m\":\n",
    "            wordArray[12] = 1\n",
    "        elif val[i] == \"n\":\n",
    "            wordArray[13] = 1\n",
    "        elif val[i] == \"o\":\n",
    "            wordArray[14] = 1\n",
    "        elif val[i] == \"p\":\n",
    "            wordArray[15] = 1\n",
    "        elif val[i] == \"q\":\n",
    "            wordArray[16] = 1\n",
    "        elif val[i] == \"r\":\n",
    "            wordArray[17] = 1\n",
    "        elif val[i] == \"s\":\n",
    "            wordArray[18] = 1\n",
    "        elif val[i] == \"t\":\n",
    "            wordArray[19] = 1\n",
    "        elif val[i] == \"u\":\n",
    "            wordArray[20] = 1\n",
    "        elif val[i] == \"v\":\n",
    "            wordArray[21] = 1\n",
    "        elif val[i] == \"w\":\n",
    "            wordArray[22] = 1\n",
    "        elif val[i] == \"x\":\n",
    "            wordArray[23] = 1\n",
    "        elif val[i] == \"y\":\n",
    "            wordArray[24] = 1\n",
    "        elif val[i] == \"z\":\n",
    "            wordArray[25] = 1\n",
    "    \n",
    "    #print(\"Oh! And am I allowed any hints as to a letter that may already be in there?\")\n",
    "    print(\"\")\n",
    "    print(\"Bougie word!\") \n",
    "    print(\"I think.\")\n",
    "    print(\"I don't actually know the word, hence the game.\")\n",
    "    print(\"So yeah...\")  \n",
    "    print(\"\")\n",
    "    print(\"Anyways! This is the board.\")\n",
    "\n",
    "    board = \"\"\n",
    "    board2 = \"\"\n",
    "    boardLength = len(val)\n",
    "    boardArray = numpy.full(boardLength, '  ')\n",
    "    for i in range(boardLength):\n",
    "        board = board + \"_\" + \" \"\n",
    "        board2 = boardArray[i]\n",
    "    \n",
    "    print(board2)\n",
    "    print(board)\n",
    "\n",
    "    print(\"\")\n",
    "    print(\"And this is the sight of the (potentially) gruesome scene.\")\n",
    "    print(\"\")\n",
    "    print(\" _____\")\n",
    "    print(\"|     |\")\n",
    "    print(\"      |\")\n",
    "    print(\"      |\")\n",
    "    print(\"      |\")\n",
    "    print(\"    __|__\")\n",
    "    print(\"\")\n",
    "    print(\"So let's play!\")\n",
    "\n",
    "    # game_over = False\n",
    "    # player = True\n",
    "    \n",
    "    # tie = 0\n",
    "    guesses = 0\n",
    "    maxGuesses = 7\n",
    "    allGuesses = numpy.zeros(26, dtype=int)\n",
    "    # while game_over != True:\n",
    "    gameOver = 0\n",
    "\n",
    "    \n",
    "    \n",
    "    while(guesses < maxGuesses and not numpy.array_equal(gameArray, wordArray) and gameOver != 1): \n",
    "        currentPred = model1.predict(gameArray.reshape(1,-1))\n",
    "        max_indices = numpy.argpartition(currentPred[0], -26)[-26:]\n",
    "        sorted = max_indices[numpy.argsort(-currentPred[0][max_indices])]\n",
    "    \n",
    "        for i in range(maxGuesses):\n",
    "            print(\"\")\n",
    "            print(\"\")\n",
    "            print(\"\")\n",
    "            if numpy.array_equal(gameArray, wordArray):\n",
    "                break\n",
    "            if guesses == 0:\n",
    "                print(\"  _____\")\n",
    "                print(\" |     |\")\n",
    "                print(\"       |\")\n",
    "                print(\"       |\")\n",
    "                print(\"       |\")\n",
    "                print(\"     __|__\")\n",
    "                print(\"\")\n",
    "            if guesses == 1:\n",
    "                print(\"  _____\")\n",
    "                print(\" |     |\")\n",
    "                print(\" O     |\")\n",
    "                print(\"       |\")\n",
    "                print(\"       |\")\n",
    "                print(\"     __|__\")\n",
    "                print(\"\")\n",
    "            elif guesses == 2:\n",
    "                print(\"  _____\")\n",
    "                print(\" |     |\")\n",
    "                print(\" O     |\")\n",
    "                print(\" |     |\")\n",
    "                print(\"       |\")\n",
    "                print(\"     __|__\")\n",
    "                print(\"\")\n",
    "            elif guesses == 3:\n",
    "                print(\"  _____\")\n",
    "                print(\" |     |\")\n",
    "                print(\" O     |\")\n",
    "                print(\"\\|     |\")\n",
    "                print(\"       |\")\n",
    "                print(\"     __|__\")\n",
    "                print(\"\")\n",
    "            elif guesses == 4:\n",
    "                print(\"  _____\")\n",
    "                print(\" |     |\")\n",
    "                print(\" O     |\")\n",
    "                print(\"\\|/    |\")\n",
    "                print(\"       |\")\n",
    "                print(\"     __|__\")\n",
    "                print(\"\")\n",
    "            elif guesses == 5:\n",
    "                print(\"  _____\")\n",
    "                print(\" |     |\")\n",
    "                print(\" O     |\")\n",
    "                print(\"\\|/    |\")\n",
    "                print(\" |     |\")\n",
    "                print(\"     __|__\")\n",
    "                print(\"\")\n",
    "            elif guesses == 6:\n",
    "                print(\"  _____\")\n",
    "                print(\" |     |\")\n",
    "                print(\" O     |\")\n",
    "                print(\"\\|/    |\")\n",
    "                print(\" |     |\")\n",
    "                print(\"/    __|__\")\n",
    "                print(\"\")\n",
    "                \n",
    "            print(\"\")\n",
    "            print(\"Word so far!\")\n",
    "            print(\"\")\n",
    "            for value in boardArray:\n",
    "                print(value, end='')\n",
    "            print(\"\")\n",
    "            print(board)\n",
    "\n",
    "            \n",
    "            for k in range(len(sorted)):\n",
    "                index = sorted[k]\n",
    "                if not gameArray[index] == 1 and not allGuesses[index] == 1:\n",
    "                    print(number_to_letter[index])\n",
    "                    print(\"That's what I guessed.\")\n",
    "                    allGuesses[index] = 1\n",
    "                    if wordArray[index] == 1:\n",
    "                        print(\"And I got it right!\")\n",
    "                        print(\"\")\n",
    "                        print(\"Where does it go? (e.g. give me the number spot)\")\n",
    "                        val = input(\"\")\n",
    "                        for l in range(boardLength):\n",
    "                            if (l+1) == int(val):\n",
    "                                boardArray[l] = number_to_letter[index] + \" \"\n",
    "                        gameArray[index] = 1\n",
    "                        break\n",
    "                    else:\n",
    "                       guesses = guesses + 1\n",
    "                       if guesses == maxGuesses:\n",
    "                           print(\"  _____\")\n",
    "                           print(\" |     |\")\n",
    "                           print(\" O     |\")\n",
    "                           print(\"\\|/    |\")\n",
    "                           print(\" |     |\")\n",
    "                           print(\"/ \\   __|__\")\n",
    "                           print(\"\")\n",
    "                           print(\"OH NO I LOST!\")\n",
    "                           break\n",
    "           \n",
    "            \n",
    "    if numpy.array_equal(gameArray, wordArray):\n",
    "        print(\"I won! Yay!\")\n",
    "    print(\"\")\n",
    "    print(\"Do you wanna play again?\")\n",
    "    print(\"1. Yes!\")\n",
    "    print(\"2. No.\")\n",
    "    val = input(\"\")\n",
    "    \n",
    "    finalDone = int(val)\n",
    "\n",
    "        # for i in range(len(currentPred[0])):\n",
    "        #     if currentPred[0][i] == 1 and not gameArray[i] == 1 and not allGuesses[i] == 1:\n",
    "        #         print(number_to_letter[i])\n",
    "        #         print(\"That's what I guessed.\")\n",
    "        #         allGuesses[i] = 1\n",
    "        #         if wordArray[i] == 1:\n",
    "        #             print(\"And I got it right!\")\n",
    "        #             gameArray[i] = 1\n",
    "        #             break\n",
    "        #         else:\n",
    "        #             guesses = guesses + 1\n",
    "print(\"\")\n",
    "print(\"Okay! Bye!\")"
   ]
  }
 ],
 "metadata": {
  "kernelspec": {
   "display_name": "Python 3 (ipykernel)",
   "language": "python",
   "name": "python3"
  },
  "language_info": {
   "codemirror_mode": {
    "name": "ipython",
    "version": 3
   },
   "file_extension": ".py",
   "mimetype": "text/x-python",
   "name": "python",
   "nbconvert_exporter": "python",
   "pygments_lexer": "ipython3",
   "version": "3.10.13"
  }
 },
 "nbformat": 4,
 "nbformat_minor": 5
}
